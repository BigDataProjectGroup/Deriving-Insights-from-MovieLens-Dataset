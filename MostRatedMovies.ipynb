{
 "cells": [
  {
   "cell_type": "code",
   "execution_count": 1,
   "metadata": {},
   "outputs": [],
   "source": [
    "from pyspark.sql import SparkSession\n",
    "from pyspark.sql import Row"
   ]
  },
  {
   "cell_type": "code",
   "execution_count": 2,
   "metadata": {},
   "outputs": [],
   "source": [
    "spark = SparkSession.builder.appName(\"SparkSQL\").getOrCreate()"
   ]
  },
  {
   "cell_type": "code",
   "execution_count": 3,
   "metadata": {},
   "outputs": [],
   "source": [
    "def mapper(line):\n",
    "    fields = line.split('\\t')\n",
    "    return Row(user_id=int(fields[0]), movie_id=int(fields[1]), rating=int(fields[2]), timestamp=int(fields[3]))"
   ]
  },
  {
   "cell_type": "code",
   "execution_count": 4,
   "metadata": {},
   "outputs": [],
   "source": [
    "linesRDD = spark.sparkContext.textFile(r\"C:\\ml-100k\\u.data\")\n",
    "ratingsRDD = linesRDD.map(mapper)\n",
    "\n",
    "schemaRatings = spark.createDataFrame(ratingsRDD).cache()\n",
    "schemaRatings.createOrReplaceTempView(\"movie_ratings\")\n",
    "\n",
    "query = \"SELECT movie_id, count(rating) as cnt FROM movie_ratings GROUP BY movie_id order by cnt desc limit 10\"\n",
    "top_rated = spark.sql(query)\n"
   ]
  },
  {
   "cell_type": "code",
   "execution_count": 5,
   "metadata": {},
   "outputs": [
    {
     "name": "stdout",
     "output_type": "stream",
     "text": [
      "Most rated movies are:\n",
      "\n",
      "Row(movie_id=50, cnt=583)\n",
      "Row(movie_id=258, cnt=509)\n",
      "Row(movie_id=100, cnt=508)\n",
      "Row(movie_id=181, cnt=507)\n",
      "Row(movie_id=294, cnt=485)\n",
      "Row(movie_id=286, cnt=481)\n",
      "Row(movie_id=288, cnt=478)\n",
      "Row(movie_id=1, cnt=452)\n",
      "Row(movie_id=300, cnt=431)\n",
      "Row(movie_id=121, cnt=429)\n",
      "\n",
      "\n"
     ]
    }
   ],
   "source": [
    "print('Most rated movies are:\\n')\n",
    "for top_movie in top_rated.collect():\n",
    "  print(top_movie)\n",
    "  \n",
    "print('\\n')\n",
    "spark.stop()"
   ]
  },
  {
   "cell_type": "code",
   "execution_count": null,
   "metadata": {},
   "outputs": [],
   "source": []
  }
 ],
 "metadata": {
  "kernelspec": {
   "display_name": "Python 3",
   "language": "python",
   "name": "python3"
  },
  "language_info": {
   "codemirror_mode": {
    "name": "ipython",
    "version": 3
   },
   "file_extension": ".py",
   "mimetype": "text/x-python",
   "name": "python",
   "nbconvert_exporter": "python",
   "pygments_lexer": "ipython3",
   "version": "3.9.0"
  }
 },
 "nbformat": 4,
 "nbformat_minor": 4
}
