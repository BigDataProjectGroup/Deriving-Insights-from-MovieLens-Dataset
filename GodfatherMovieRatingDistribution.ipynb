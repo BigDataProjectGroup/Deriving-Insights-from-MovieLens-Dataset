{
 "cells": [
  {
   "cell_type": "code",
   "execution_count": 1,
   "metadata": {},
   "outputs": [],
   "source": [
    "from pyspark import SparkConf, SparkContext\n"
   ]
  },
  {
   "cell_type": "code",
   "execution_count": 2,
   "metadata": {},
   "outputs": [],
   "source": [
    "conf = SparkConf().setMaster(\"local\").setAppName(\"MovieRatingsDistribution\")\n",
    "sc = SparkContext(conf = conf)"
   ]
  },
  {
   "cell_type": "code",
   "execution_count": 3,
   "metadata": {},
   "outputs": [],
   "source": [
    "movieId = '127'\n",
    "movieIdColIdx = 1\n",
    "ratingColIdx = 2 "
   ]
  },
  {
   "cell_type": "code",
   "execution_count": 6,
   "metadata": {},
   "outputs": [],
   "source": [
    "linesRDD = sc.textFile(r\"C:\\ml-100k\\u.data\")\n",
    "movieRatingsRDD = linesRDD.filter(lambda x: x.split()[movieIdColIdx] == movieId)\n"
   ]
  },
  {
   "cell_type": "code",
   "execution_count": 7,
   "metadata": {},
   "outputs": [
    {
     "name": "stdout",
     "output_type": "stream",
     "text": [
      "\n",
      "Rating distribution is for movie Godfather [('4', 137), ('2', 23), ('5', 214), ('3', 33), ('1', 6)]\n",
      "\n",
      "\n"
     ]
    }
   ],
   "source": [
    "ratingsHistogram = movieRatingsRDD \\\n",
    "                .map(lambda x: (x.split()[ratingColIdx], 1)) \\\n",
    "                .reduceByKey(lambda a, b: a + b) \\\n",
    "                .collect()\n",
    "\n",
    "print('\\nRating distribution is for movie Godfather', ratingsHistogram)\n",
    "print('\\n')"
   ]
  },
  {
   "cell_type": "code",
   "execution_count": 16,
   "metadata": {},
   "outputs": [
    {
     "data": {
      "image/png": "[encoded data removed]",
      "text/plain": [
       "<Figure size 432x288 with 1 Axes>"
      ]
     },
     "metadata": {
      "needs_background": "light"
     },
     "output_type": "display_data"
    }
   ],
   "source": [
    "import matplotlib.pylab as plt\n",
    "import numpy as np\n",
    "x1,y1 = zip(*ratingsHistogram)\n",
    "plt.bar(np.array(x1), y1)\n",
    "plt.show()"
   ]
  },
  {
   "cell_type": "code",
   "execution_count": null,
   "metadata": {},
   "outputs": [],
   "source": []
  }
 ],
 "metadata": {
  "kernelspec": {
   "display_name": "Python 3",
   "language": "python",
   "name": "python3"
  },
  "language_info": {
   "codemirror_mode": {
    "name": "ipython",
    "version": 3
   },
   "file_extension": ".py",
   "mimetype": "text/x-python",
   "name": "python",
   "nbconvert_exporter": "python",
   "pygments_lexer": "ipython3",
   "version": "3.9.0"
  }
 },
 "nbformat": 4,
 "nbformat_minor": 4
}
